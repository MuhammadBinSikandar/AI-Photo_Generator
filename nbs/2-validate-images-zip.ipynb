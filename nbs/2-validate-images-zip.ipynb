{
 "cells": [
  {
   "cell_type": "code",
   "execution_count": 10,
   "metadata": {},
   "outputs": [],
   "source": [
    "import pathlib\n",
    "import mimetypes\n",
    "import shutil\n",
    "import tempfile\n",
    "\n",
    "from PIL import Image, ImageOps\n",
    "from pillow_heif import register_heif_opener\n",
    "\n",
    "register_heif_opener()"
   ]
  },
  {
   "cell_type": "code",
   "execution_count": 11,
   "metadata": {},
   "outputs": [
    {
     "data": {
      "text/plain": [
       "WindowsPath('D:/Python Projects/AI-Photo_Generator/data/outputs')"
      ]
     },
     "execution_count": 11,
     "metadata": {},
     "output_type": "execute_result"
    }
   ],
   "source": [
    "NBS_DIR = pathlib.Path().resolve()\n",
    "REPO_DIR = NBS_DIR.parent\n",
    "DATA_DIR = REPO_DIR / \"data\"\n",
    "INPUTS_DIR = DATA_DIR / \"inputs\"\n",
    "OUTPUTS_DIR = DATA_DIR / \"outputs\"\n",
    "OUTPUTS_DIR"
   ]
  },
  {
   "cell_type": "code",
   "execution_count": null,
   "metadata": {},
   "outputs": [],
   "source": [
    "def perform_is_image(path, require_can_open=True):\n",
    "    try:\n",
    "        guessed_type, encoding = mimetypes.guess_type(path)\n",
    "    except:\n",
    "        guessed_type = \"\"\n",
    "    guessed_image = \"image\" in guessed_type\n",
    "    if not guessed_image:\n",
    "        return False    \n",
    "    if guessed_image and require_can_open:\n",
    "        try:\n",
    "            img_ = Image.open(path)\n",
    "            # print(img_)\n",
    "        except:\n",
    "            return False \n",
    "    return True"
   ]
  },
  {
   "cell_type": "code",
   "execution_count": 13,
   "metadata": {},
   "outputs": [
    {
     "name": "stdout",
     "output_type": "stream",
     "text": [
      "<PIL.JpegImagePlugin.JpegImageFile image mode=RGB size=768x1024 at 0x22C434E4050>\n",
      "<PIL.JpegImagePlugin.JpegImageFile image mode=RGB size=4032x3024 at 0x22C43198DD0>\n",
      "<PIL.JpegImagePlugin.JpegImageFile image mode=RGB size=4032x3024 at 0x22C43190110>\n",
      "<PIL.PngImagePlugin.PngImageFile image mode=RGBA size=800x800 at 0x22C43506490>\n",
      "<PIL.JpegImagePlugin.JpegImageFile image mode=RGB size=768x1024 at 0x22C430A9450>\n",
      "<PIL.JpegImagePlugin.JpegImageFile image mode=RGB size=768x1024 at 0x22C43190110>\n",
      "<PIL.JpegImagePlugin.JpegImageFile image mode=RGB size=768x1024 at 0x22C43504A90>\n",
      "<PIL.JpegImagePlugin.JpegImageFile image mode=RGB size=768x1024 at 0x22C43506490>\n",
      "<PIL.JpegImagePlugin.JpegImageFile image mode=RGB size=768x1024 at 0x22C43504A90>\n",
      "<PIL.JpegImagePlugin.JpegImageFile image mode=RGB size=4032x3024 at 0x22C43504A90>\n",
      "<PIL.JpegImagePlugin.JpegImageFile image mode=RGB size=4032x3024 at 0x22C434F6510>\n",
      "<PIL.JpegImagePlugin.JpegImageFile image mode=RGB size=4032x3024 at 0x22C434F40D0>\n",
      "<PIL.JpegImagePlugin.JpegImageFile image mode=RGB size=4032x3024 at 0x22C431998D0>\n",
      "<PIL.JpegImagePlugin.JpegImageFile image mode=RGB size=4032x3024 at 0x22C43506490>\n",
      "<PIL.JpegImagePlugin.JpegImageFile image mode=RGB size=4032x3024 at 0x22C4309B5D0>\n"
     ]
    }
   ],
   "source": [
    "image_file_paths = []\n",
    "for file_path in INPUTS_DIR.glob(\"*\"):\n",
    "    is_image = perform_is_image(file_path)\n",
    "    if not is_image:\n",
    "        continue\n",
    "    image_file_paths.append(file_path)"
   ]
  },
  {
   "cell_type": "code",
   "execution_count": 14,
   "metadata": {},
   "outputs": [
    {
     "data": {
      "text/plain": [
       "[WindowsPath('D:/Python Projects/AI-Photo_Generator/data/inputs/1.jpg'),\n",
       " WindowsPath('D:/Python Projects/AI-Photo_Generator/data/inputs/10.jpg'),\n",
       " WindowsPath('D:/Python Projects/AI-Photo_Generator/data/inputs/11.jpg'),\n",
       " WindowsPath('D:/Python Projects/AI-Photo_Generator/data/inputs/12.png'),\n",
       " WindowsPath('D:/Python Projects/AI-Photo_Generator/data/inputs/13.jpg'),\n",
       " WindowsPath('D:/Python Projects/AI-Photo_Generator/data/inputs/14.jpg'),\n",
       " WindowsPath('D:/Python Projects/AI-Photo_Generator/data/inputs/15.jpg'),\n",
       " WindowsPath('D:/Python Projects/AI-Photo_Generator/data/inputs/2.jpg'),\n",
       " WindowsPath('D:/Python Projects/AI-Photo_Generator/data/inputs/3.jpg'),\n",
       " WindowsPath('D:/Python Projects/AI-Photo_Generator/data/inputs/4.jpg'),\n",
       " WindowsPath('D:/Python Projects/AI-Photo_Generator/data/inputs/5.jpg'),\n",
       " WindowsPath('D:/Python Projects/AI-Photo_Generator/data/inputs/6.jpg'),\n",
       " WindowsPath('D:/Python Projects/AI-Photo_Generator/data/inputs/7.jpg'),\n",
       " WindowsPath('D:/Python Projects/AI-Photo_Generator/data/inputs/8.jpg'),\n",
       " WindowsPath('D:/Python Projects/AI-Photo_Generator/data/inputs/9.jpg')]"
      ]
     },
     "execution_count": 14,
     "metadata": {},
     "output_type": "execute_result"
    }
   ],
   "source": [
    "image_file_paths"
   ]
  },
  {
   "cell_type": "code",
   "execution_count": 15,
   "metadata": {},
   "outputs": [],
   "source": [
    "OUTPUTS_DIR.mkdir(exist_ok=True, parents=True)"
   ]
  },
  {
   "cell_type": "code",
   "execution_count": 16,
   "metadata": {},
   "outputs": [
    {
     "data": {
      "text/plain": [
       "True"
      ]
     },
     "execution_count": 16,
     "metadata": {},
     "output_type": "execute_result"
    }
   ],
   "source": [
    "zip_outpath = OUTPUTS_DIR / \"images.zip\"\n",
    "zip_outpath.exists()"
   ]
  },
  {
   "cell_type": "code",
   "execution_count": 17,
   "metadata": {},
   "outputs": [],
   "source": [
    "with tempfile.TemporaryDirectory() as temp_dir:\n",
    "    for path in image_file_paths:\n",
    "        shutil.copy(path, temp_dir) \n",
    "    shutil.make_archive(zip_outpath.with_suffix(\"\"), \"zip\", temp_dir)"
   ]
  }
 ],
 "metadata": {
  "kernelspec": {
   "display_name": "Python 3",
   "language": "python",
   "name": "python3"
  },
  "language_info": {
   "codemirror_mode": {
    "name": "ipython",
    "version": 3
   },
   "file_extension": ".py",
   "mimetype": "text/x-python",
   "name": "python",
   "nbconvert_exporter": "python",
   "pygments_lexer": "ipython3",
   "version": "3.11.9"
  }
 },
 "nbformat": 4,
 "nbformat_minor": 2
}

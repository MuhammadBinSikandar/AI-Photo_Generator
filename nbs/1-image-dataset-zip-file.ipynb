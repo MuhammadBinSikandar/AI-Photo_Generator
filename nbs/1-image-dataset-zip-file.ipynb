{
 "cells": [
  {
   "cell_type": "code",
   "execution_count": 8,
   "metadata": {},
   "outputs": [],
   "source": [
    "import pathlib\n",
    "import mimetypes\n",
    "import shutil\n",
    "import tempfile"
   ]
  },
  {
   "cell_type": "code",
   "execution_count": 3,
   "metadata": {},
   "outputs": [
    {
     "data": {
      "text/plain": [
       "WindowsPath('D:/Python Projects/AI-Photo_Generator/data/outputs')"
      ]
     },
     "execution_count": 3,
     "metadata": {},
     "output_type": "execute_result"
    }
   ],
   "source": [
    "NBS_DIR = pathlib.Path().resolve()\n",
    "REPO_DIR = NBS_DIR.parent\n",
    "DATA_DIR = REPO_DIR / \"data\"\n",
    "INPUTS_DIR = DATA_DIR / \"inputs\"\n",
    "OUTPUTS_DIR = DATA_DIR / \"outputs\"\n",
    "OUTPUTS_DIR"
   ]
  },
  {
   "cell_type": "code",
   "execution_count": 4,
   "metadata": {},
   "outputs": [
    {
     "name": "stdout",
     "output_type": "stream",
     "text": [
      "1.jpg image/jpeg\n",
      "10.jpg image/jpeg\n",
      "11.jpg image/jpeg\n",
      "12.png image/png\n",
      "13.jpg image/jpeg\n",
      "14.jpg image/jpeg\n",
      "15.jpg image/jpeg\n",
      "2.jpg image/jpeg\n",
      "3.jpg image/jpeg\n",
      "4.jpg image/jpeg\n",
      "5.jpg image/jpeg\n",
      "6.jpg image/jpeg\n",
      "7.jpg image/jpeg\n",
      "8.jpg image/jpeg\n",
      "9.jpg image/jpeg\n",
      "not-an-image.txt text/plain\n"
     ]
    }
   ],
   "source": [
    "image_file_paths = []\n",
    "for file_path in INPUTS_DIR.glob(\"*\"):\n",
    "    guessed_type, encoding = mimetypes.guess_type(file_path)\n",
    "    print(file_path.name, guessed_type)\n",
    "    if \"image\" not in guessed_type:\n",
    "        continue\n",
    "    image_file_paths.append(file_path)"
   ]
  },
  {
   "cell_type": "code",
   "execution_count": 5,
   "metadata": {},
   "outputs": [
    {
     "data": {
      "text/plain": [
       "[WindowsPath('D:/Python Projects/AI-Photo_Generator/data/inputs/1.jpg'),\n",
       " WindowsPath('D:/Python Projects/AI-Photo_Generator/data/inputs/10.jpg'),\n",
       " WindowsPath('D:/Python Projects/AI-Photo_Generator/data/inputs/11.jpg'),\n",
       " WindowsPath('D:/Python Projects/AI-Photo_Generator/data/inputs/12.png'),\n",
       " WindowsPath('D:/Python Projects/AI-Photo_Generator/data/inputs/13.jpg'),\n",
       " WindowsPath('D:/Python Projects/AI-Photo_Generator/data/inputs/14.jpg'),\n",
       " WindowsPath('D:/Python Projects/AI-Photo_Generator/data/inputs/15.jpg'),\n",
       " WindowsPath('D:/Python Projects/AI-Photo_Generator/data/inputs/2.jpg'),\n",
       " WindowsPath('D:/Python Projects/AI-Photo_Generator/data/inputs/3.jpg'),\n",
       " WindowsPath('D:/Python Projects/AI-Photo_Generator/data/inputs/4.jpg'),\n",
       " WindowsPath('D:/Python Projects/AI-Photo_Generator/data/inputs/5.jpg'),\n",
       " WindowsPath('D:/Python Projects/AI-Photo_Generator/data/inputs/6.jpg'),\n",
       " WindowsPath('D:/Python Projects/AI-Photo_Generator/data/inputs/7.jpg'),\n",
       " WindowsPath('D:/Python Projects/AI-Photo_Generator/data/inputs/8.jpg'),\n",
       " WindowsPath('D:/Python Projects/AI-Photo_Generator/data/inputs/9.jpg')]"
      ]
     },
     "execution_count": 5,
     "metadata": {},
     "output_type": "execute_result"
    }
   ],
   "source": [
    "image_file_paths"
   ]
  },
  {
   "cell_type": "code",
   "execution_count": 6,
   "metadata": {},
   "outputs": [],
   "source": [
    "OUTPUTS_DIR.mkdir(exist_ok=True, parents=True)"
   ]
  },
  {
   "cell_type": "code",
   "execution_count": 7,
   "metadata": {},
   "outputs": [
    {
     "data": {
      "text/plain": [
       "False"
      ]
     },
     "execution_count": 7,
     "metadata": {},
     "output_type": "execute_result"
    }
   ],
   "source": [
    "zip_outpath = OUTPUTS_DIR / \"images.zip\"\n",
    "zip_outpath.exists()"
   ]
  },
  {
   "cell_type": "code",
   "execution_count": 9,
   "metadata": {},
   "outputs": [],
   "source": [
    "with tempfile.TemporaryDirectory() as temp_dir:\n",
    "    for path in image_file_paths:\n",
    "        shutil.copy(path, temp_dir) \n",
    "    shutil.make_archive(zip_outpath.with_suffix(\"\"), \"zip\", temp_dir)"
   ]
  }
 ],
 "metadata": {
  "kernelspec": {
   "display_name": "Python 3",
   "language": "python",
   "name": "python3"
  },
  "language_info": {
   "codemirror_mode": {
    "name": "ipython",
    "version": 3
   },
   "file_extension": ".py",
   "mimetype": "text/x-python",
   "name": "python",
   "nbconvert_exporter": "python",
   "pygments_lexer": "ipython3",
   "version": "3.11.9"
  }
 },
 "nbformat": 4,
 "nbformat_minor": 2
}

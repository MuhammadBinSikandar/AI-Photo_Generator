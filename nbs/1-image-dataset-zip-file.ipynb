{
 "cells": [
  {
   "cell_type": "code",
   "execution_count": 10,
   "metadata": {},
   "outputs": [],
   "source": [
    "import pathlib\n",
    "import mimetypes"
   ]
  },
  {
   "cell_type": "code",
   "execution_count": 4,
   "metadata": {},
   "outputs": [
    {
     "data": {
      "text/plain": [
       "WindowsPath('D:/Python Projects/AI-Photo_Generator/data/outputs')"
      ]
     },
     "execution_count": 4,
     "metadata": {},
     "output_type": "execute_result"
    }
   ],
   "source": [
    "NBS_DIR = pathlib.Path().resolve()\n",
    "REPO_DIR = NBS_DIR.parent\n",
    "DATA_DIR = REPO_DIR / \"data\"\n",
    "INPUTS_DIR = DATA_DIR / \"inputs\"\n",
    "OUTPUTS_DIR = DATA_DIR / \"outputs\"\n",
    "OUTPUTS_DIR"
   ]
  },
  {
   "cell_type": "code",
   "execution_count": null,
   "metadata": {},
   "outputs": [
    {
     "name": "stdout",
     "output_type": "stream",
     "text": [
      "D:\\Python Projects\\AI-Photo_Generator\\data\\inputs\\1.jpg image/jpeg\n",
      "D:\\Python Projects\\AI-Photo_Generator\\data\\inputs\\10.jpg image/jpeg\n",
      "D:\\Python Projects\\AI-Photo_Generator\\data\\inputs\\11.jpg image/jpeg\n",
      "D:\\Python Projects\\AI-Photo_Generator\\data\\inputs\\12.png image/png\n",
      "D:\\Python Projects\\AI-Photo_Generator\\data\\inputs\\13.jpg image/jpeg\n",
      "D:\\Python Projects\\AI-Photo_Generator\\data\\inputs\\14.jpg image/jpeg\n",
      "D:\\Python Projects\\AI-Photo_Generator\\data\\inputs\\15.jpg image/jpeg\n",
      "D:\\Python Projects\\AI-Photo_Generator\\data\\inputs\\2.jpg image/jpeg\n",
      "D:\\Python Projects\\AI-Photo_Generator\\data\\inputs\\3.jpg image/jpeg\n",
      "D:\\Python Projects\\AI-Photo_Generator\\data\\inputs\\4.jpg image/jpeg\n",
      "D:\\Python Projects\\AI-Photo_Generator\\data\\inputs\\5.jpg image/jpeg\n",
      "D:\\Python Projects\\AI-Photo_Generator\\data\\inputs\\6.jpg image/jpeg\n",
      "D:\\Python Projects\\AI-Photo_Generator\\data\\inputs\\7.jpg image/jpeg\n",
      "D:\\Python Projects\\AI-Photo_Generator\\data\\inputs\\8.jpg image/jpeg\n",
      "D:\\Python Projects\\AI-Photo_Generator\\data\\inputs\\9.jpg image/jpeg\n",
      "D:\\Python Projects\\AI-Photo_Generator\\data\\inputs\\not-an-image.txt text/plain\n"
     ]
    }
   ],
   "source": [
    "for file_path in INPUTS_DIR.glob(\"*\"):\n",
    "    guessed_type, encoding = mimetypes.guess_type(file_path)\n",
    "    print(file_path.name, guessed_type)"
   ]
  }
 ],
 "metadata": {
  "kernelspec": {
   "display_name": "Python 3",
   "language": "python",
   "name": "python3"
  },
  "language_info": {
   "codemirror_mode": {
    "name": "ipython",
    "version": 3
   },
   "file_extension": ".py",
   "mimetype": "text/x-python",
   "name": "python",
   "nbconvert_exporter": "python",
   "pygments_lexer": "ipython3",
   "version": "3.11.9"
  }
 },
 "nbformat": 4,
 "nbformat_minor": 2
}
